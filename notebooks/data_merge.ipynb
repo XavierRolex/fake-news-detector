{
 "cells": [
  {
   "cell_type": "markdown",
   "id": "81a8d75f",
   "metadata": {},
   "source": [
    "### Preparing Dataset to merge"
   ]
  },
  {
   "cell_type": "code",
   "execution_count": 1,
   "id": "b8723ed6",
   "metadata": {},
   "outputs": [],
   "source": [
    "import pandas as pd\n",
    "\n",
    "# Load first dataset (Fake.csv and True.csv)\n",
    "df_fake = pd.read_csv(\"../data/raw/Fake.csv\")\n",
    "df_true = pd.read_csv(\"../data/raw/True.csv\")\n",
    "\n",
    "# Add labels\n",
    "df_fake[\"label\"] = 0  # Fake\n",
    "df_true[\"label\"] = 1  # Real\n",
    "\n",
    "# Combine into one DataFrame\n",
    "df_1 = pd.concat([df_fake, df_true], ignore_index=True)\n",
    "\n",
    "# Keep only required columns\n",
    "df_1 = df_1[[\"title\", \"text\", \"label\"]]"
   ]
  },
  {
   "cell_type": "code",
   "execution_count": 2,
   "id": "2c822140",
   "metadata": {},
   "outputs": [],
   "source": [
    "# Load second dataset\n",
    "df_2 = pd.read_csv(\"../data/raw/news_data.csv\")\n",
    "\n",
    "# Rename columns to match df_1\n",
    "df_2 = df_2.rename(columns={\"Headline\": \"title\", \"Body\": \"text\", \"Label\": \"label\"})\n",
    "\n",
    "# Drop URL column\n",
    "df_2 = df_2[[\"title\", \"text\", \"label\"]]\n"
   ]
  },
  {
   "cell_type": "markdown",
   "id": "e3141483",
   "metadata": {},
   "source": [
    "### Merge and shuffle"
   ]
  },
  {
   "cell_type": "code",
   "execution_count": 3,
   "id": "838ee41e",
   "metadata": {},
   "outputs": [],
   "source": [
    "# Combine both datasets\n",
    "df_combined = pd.concat([df_1, df_2], ignore_index=True)\n",
    "\n",
    "# Drop nulls if any\n",
    "df_combined.dropna(inplace=True)\n",
    "\n",
    "# Shuffle the dataset\n",
    "df_combined = df_combined.sample(frac=1, random_state=42).reset_index(drop=True)\n",
    "\n",
    "# Save combined dataset\n",
    "df_combined.to_csv(\"../data/processed/fake_news_combined.csv\", index=False)\n"
   ]
  }
 ],
 "metadata": {
  "kernelspec": {
   "display_name": "env",
   "language": "python",
   "name": "python3"
  },
  "language_info": {
   "codemirror_mode": {
    "name": "ipython",
    "version": 3
   },
   "file_extension": ".py",
   "mimetype": "text/x-python",
   "name": "python",
   "nbconvert_exporter": "python",
   "pygments_lexer": "ipython3",
   "version": "3.12.10"
  }
 },
 "nbformat": 4,
 "nbformat_minor": 5
}
